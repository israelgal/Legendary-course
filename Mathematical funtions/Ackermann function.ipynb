{
 "cells": [
  {
   "cell_type": "code",
   "execution_count": 3,
   "metadata": {},
   "outputs": [
    {
     "data": {
      "text/plain": [
       "3"
      ]
     },
     "execution_count": 3,
     "metadata": {},
     "output_type": "execute_result"
    }
   ],
   "source": [
    "def ack(m,n):\n",
    "     \"\"\"Computes the Ackermann function A(m, n)\n",
    "\n",
    "    See http://en.wikipedia.org/wiki/Ackermann_function\n",
    "\n",
    "    n, m: non-negative integers\n",
    "    \"\"\"\n",
    "    if m==0:\n",
    "        n=n+1\n",
    "        return n\n",
    "    if m>0 and n==0:\n",
    "        value_ack = ack(m-1,1)\n",
    "        return value_ack\n",
    "    if m>0 and n>0:\n",
    "        value_ack = ack(m-1,ack(m,n-1))\n",
    "        return value_ack\n",
    "        \n",
    "ack(0,2)        "
   ]
  },
  {
   "cell_type": "code",
   "execution_count": 5,
   "metadata": {},
   "outputs": [
    {
     "name": "stdout",
     "output_type": "stream",
     "text": [
      "3\n"
     ]
    }
   ],
   "source": [
    "def ackermann(m, n):\n",
    "    \"\"\"Computes the Ackermann function A(m, n)\n",
    "\n",
    "    See http://en.wikipedia.org/wiki/Ackermann_function\n",
    "\n",
    "    n, m: non-negative integers\n",
    "    \"\"\"\n",
    "    if m == 0:\n",
    "        return n+1\n",
    "    if n == 0:\n",
    "        return ackermann(m-1, 1)\n",
    "    return ackermann(m-1, ackermann(m, n-1))\n",
    "\n",
    "\n",
    "print(ackermann(0, 2))"
   ]
  },
  {
   "cell_type": "code",
   "execution_count": null,
   "metadata": {},
   "outputs": [],
   "source": []
  }
 ],
 "metadata": {
  "kernelspec": {
   "display_name": "Python 3",
   "language": "python",
   "name": "python3"
  },
  "language_info": {
   "codemirror_mode": {
    "name": "ipython",
    "version": 3
   },
   "file_extension": ".py",
   "mimetype": "text/x-python",
   "name": "python",
   "nbconvert_exporter": "python",
   "pygments_lexer": "ipython3",
   "version": "3.7.0"
  }
 },
 "nbformat": 4,
 "nbformat_minor": 2
}
