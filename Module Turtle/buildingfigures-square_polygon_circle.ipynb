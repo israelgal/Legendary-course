{
 "cells": [
  {
   "cell_type": "markdown",
   "metadata": {},
   "source": [
    "## En este código se trabaja hasta llegar a hacer una función la cual pueda hacer cualquier poligono regular"
   ]
  },
  {
   "cell_type": "code",
   "execution_count": 1,
   "metadata": {
    "scrolled": true
   },
   "outputs": [
    {
     "name": "stdout",
     "output_type": "stream",
     "text": [
      "<turtle.Turtle object at 0x000002263625C908>\n"
     ]
    }
   ],
   "source": [
    "import turtle\n",
    "\n",
    "# Se hizo un programa donde se dibuja un cuadrado acción por acción\n",
    "\n",
    "bob = turtle.Turtle()\n",
    "print(bob)\n",
    "bob.fd(100)\n",
    "bob.lt(90)\n",
    "bob.fd(100)\n",
    "bob.lt(90)\n",
    "bob.fd(100)\n",
    "bob.lt(90)\n",
    "bob.fd(100)\n",
    "\n",
    "turtle.mainloop()"
   ]
  },
  {
   "cell_type": "code",
   "execution_count": 1,
   "metadata": {},
   "outputs": [
    {
     "name": "stdout",
     "output_type": "stream",
     "text": [
      "<turtle.Turtle object at 0x0000027D841F2668>\n"
     ]
    }
   ],
   "source": [
    "import turtle\n",
    "\n",
    "#Se hace un cuadrado mediante un ciclo \"for\"\n",
    "\n",
    "square = turtle.Turtle()\n",
    "print(square)\n",
    "for i in range(4):\n",
    "    square.fd(100)\n",
    "    square.lt(90)\n",
    "\n",
    "turtle.mainloop()"
   ]
  },
  {
   "cell_type": "code",
   "execution_count": 1,
   "metadata": {},
   "outputs": [
    {
     "name": "stdout",
     "output_type": "stream",
     "text": [
      "<turtle.Turtle object at 0x00000273A75936D8>\n"
     ]
    }
   ],
   "source": [
    "import turtle \n",
    "\n",
    "#Se hace un circulo mediante el uso de una función\n",
    "\n",
    "def square(t, length):\n",
    "    print(t)\n",
    "    for i in range(4):\n",
    "        t.fd(length)\n",
    "        t.lt(90)\n",
    "\n",
    "    turtle.mainloop()  \n",
    "    \n",
    "    \n",
    "tortuga = turtle.Turtle()\n",
    "\n",
    "square(tortuga,300)"
   ]
  },
  {
   "cell_type": "code",
   "execution_count": 1,
   "metadata": {},
   "outputs": [
    {
     "name": "stdout",
     "output_type": "stream",
     "text": [
      "<turtle.Turtle object at 0x000001795472F748>\n"
     ]
    }
   ],
   "source": [
    "import turtle \n",
    "\n",
    "# Se generaliza el cuadrado para que se pueda hacer cualquier poligono\n",
    "# \"t\" es la tortuga, \"length\" es la longitud de la linea en pixeles, \"n\" es el número de lados de la figura\n",
    "def polygon(t, length, n):\n",
    "    print(t)\n",
    "    for i in range(n):\n",
    "        t.fd(length)\n",
    "        t.lt(360/n)\n",
    "\n",
    "    turtle.mainloop()  \n",
    "\n",
    "    \n",
    "tortuga = turtle.Turtle()\n",
    "\n",
    "polygon(tortuga,8,100)    "
   ]
  },
  {
   "cell_type": "code",
   "execution_count": 1,
   "metadata": {},
   "outputs": [
    {
     "name": "stdout",
     "output_type": "stream",
     "text": [
      "<turtle.Turtle object at 0x0000015AE5756F28>\n"
     ]
    }
   ],
   "source": [
    "import turtle \n",
    "\n",
    "# Se mejora el programa del poligono para poder hacer un circulo\n",
    "\n",
    "def polygon(t, length, n):\n",
    "    angle=360/n\n",
    "    print(t)\n",
    "    for i in range(n):\n",
    "        t.fd(length)\n",
    "        t.lt(angle)\n",
    "\n",
    "    turtle.mainloop()  \n",
    "    \n",
    "\n",
    "def circle(t,r):\n",
    "    circunference = 2*3.1416*r\n",
    "    n = 50\n",
    "    length = circunference/n\n",
    "    polygon(t, length, n)\n",
    "    \n",
    "\n",
    "tortuga = turtle.Turtle()\n",
    "    \n",
    "circle(tortuga,100)    "
   ]
  },
  {
   "cell_type": "code",
   "execution_count": null,
   "metadata": {},
   "outputs": [],
   "source": []
  }
 ],
 "metadata": {
  "kernelspec": {
   "display_name": "Python 3",
   "language": "python",
   "name": "python3"
  },
  "language_info": {
   "codemirror_mode": {
    "name": "ipython",
    "version": 3
   },
   "file_extension": ".py",
   "mimetype": "text/x-python",
   "name": "python",
   "nbconvert_exporter": "python",
   "pygments_lexer": "ipython3",
   "version": "3.7.0"
  }
 },
 "nbformat": 4,
 "nbformat_minor": 2
}
