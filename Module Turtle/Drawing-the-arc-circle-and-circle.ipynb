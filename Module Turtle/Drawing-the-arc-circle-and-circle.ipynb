{
 "cells": [
  {
   "cell_type": "markdown",
   "metadata": {},
   "source": [
    "## En este código se ha hecho un circulo mediante la generalización del arco"
   ]
  },
  {
   "cell_type": "code",
   "execution_count": 1,
   "metadata": {},
   "outputs": [
    {
     "name": "stdout",
     "output_type": "stream",
     "text": [
      "<turtle.Turtle object at 0x000002AC9905F780>\n"
     ]
    }
   ],
   "source": [
    "import turtle \n",
    "\n",
    "def polyline(t, number_sides, length, angle):\n",
    "    print(t)\n",
    "    for i in range(number_sides):\n",
    "        t.fd(length)\n",
    "        t.lt(angle)\n",
    "    \n",
    "    turtle.mainloop()     \n",
    "\n",
    "tortuga = turtle.Turtle()\n",
    "\n",
    "polyline(tortuga, 5, 50, 30)"
   ]
  },
  {
   "cell_type": "code",
   "execution_count": 1,
   "metadata": {},
   "outputs": [
    {
     "name": "stdout",
     "output_type": "stream",
     "text": [
      "<turtle.Turtle object at 0x000001DA379E6CC0>\n"
     ]
    }
   ],
   "source": [
    "import turtle\n",
    "\n",
    "def polyline(t, number_sides, length, angle):\n",
    "    print(t)\n",
    "    for i in range(number_sides):\n",
    "        t.fd(length)\n",
    "        t.lt(angle)\n",
    "    \n",
    "    turtle.mainloop()     \n",
    "\n",
    "def polygon(t, length, number_sides):\n",
    "    angle=360/number_sides\n",
    "    polyline(t, number_sides, length, angle)\n",
    "     \n",
    "    \n",
    "tortuga = turtle.Turtle()\n",
    "\n",
    "polygon(tortuga, 50, 7)\n"
   ]
  },
  {
   "cell_type": "code",
   "execution_count": 1,
   "metadata": {},
   "outputs": [
    {
     "name": "stderr",
     "output_type": "stream",
     "text": [
      "C:\\Users\\iisra\\Anaconda3\\lib\\site-packages\\ipykernel\\parentpoller.py:116: UserWarning: Parent poll failed.  If the frontend dies,\n",
      "                the kernel may be left running.  Please let us know\n",
      "                about your system (bitness, Python, etc.) at\n",
      "                ipython-dev@scipy.org\n",
      "  ipython-dev@scipy.org\"\"\")\n"
     ]
    },
    {
     "name": "stdout",
     "output_type": "stream",
     "text": [
      "<turtle.Turtle object at 0x000001813AD692E8>\n"
     ]
    }
   ],
   "source": [
    "import turtle\n",
    "\n",
    "# Aquí nosotros generalizamos polygon un circulo con un número de lados apropiado para tamaño de circulo\n",
    "\n",
    "\n",
    "def polyline(t, number_sides, length, angle):\n",
    "    print(t)\n",
    "    for i in range(number_sides):\n",
    "        t.fd(length)\n",
    "        t.lt(angle)\n",
    "    \n",
    "    turtle.mainloop()     \n",
    "\n",
    "def polygon(t, number_sides, length):\n",
    "    angle=360/number_sides\n",
    "    polyline(t, number_sides, length, angle)\n",
    "     \n",
    "\n",
    "def circle(t,radio):\n",
    "    circunference = 2*3.1416*radio\n",
    "    number_sides = int(circunference/3)+3 \n",
    "    #number_sides se hizo de esta forma para tener un numero de lados lo suficiente pequeños\n",
    "    #  para circulos pequeños y lo suficientemente grande para circulos grandes\n",
    "    length = circunference/number_sides\n",
    "    polygon(t, number_sides, length,)\n",
    "    \n",
    "tortuga= turtle.Turtle()\n",
    "\n",
    "circle(tortuga, 100)"
   ]
  },
  {
   "cell_type": "code",
   "execution_count": 1,
   "metadata": {},
   "outputs": [
    {
     "name": "stdout",
     "output_type": "stream",
     "text": [
      "<turtle.Turtle object at 0x00000184810B00F0>\n"
     ]
    }
   ],
   "source": [
    "import turtle\n",
    "\n",
    "# Aqui se hace una generalizacion del circulo logrando hacer cualquier fracción de el medianto la función\n",
    "# \"arc\"\n",
    "\n",
    "def polyline(t, number_sides , length, angle):\n",
    "    print(t)\n",
    "    for i in range(number_sides):\n",
    "        t.fd(length)\n",
    "        t.lt(angle)\n",
    "    \n",
    "    turtle.mainloop()     \n",
    "    \n",
    "def arc(t, radio, angle):\n",
    "    arc_length = 2*3.1416*radio*angle/360\n",
    "    number_sides = int(arc_length/3)+1\n",
    "    step_length = arc_length / number_sides\n",
    "    step_angle = float(angle) / number_sides\n",
    "    polyline(t, number_sides, step_length, step_angle)\n",
    "    \n",
    "    \n",
    "tortuga = turtle.Turtle()\n",
    "\n",
    "arc(tortuga, 50, 360)\n",
    "    "
   ]
  },
  {
   "cell_type": "code",
   "execution_count": 1,
   "metadata": {},
   "outputs": [
    {
     "name": "stdout",
     "output_type": "stream",
     "text": [
      "<turtle.Turtle object at 0x00000177B61130F0>\n"
     ]
    }
   ],
   "source": [
    "import turtle\n",
    "\n",
    "# Con la anterior parte de el codigo se puede volver a hacer un circulo utilizando la función \"arc\"\n",
    "# Con angle=360 se debe formar el circulo\n",
    "def polyline(t, number_sides , length, angle):\n",
    "    print(t)\n",
    "    for i in range(number_sides):\n",
    "        t.fd(length)\n",
    "        t.lt(angle)\n",
    "    \n",
    "    turtle.mainloop()     \n",
    "    \n",
    "def arc(t, radio, angle):\n",
    "    arc_length = 2*3.1416*radio*angle/360\n",
    "    number_sides = int(arc_length/3)+1\n",
    "    step_length = arc_length / number_sides\n",
    "    step_angle = float(angle) / number_sides\n",
    "    polyline(t, number_sides, step_length, step_angle)\n",
    "    \n",
    "def circle(t, radio):\n",
    "    angle=360\n",
    "    arc(t, radio, angle)\n",
    "    \n",
    "tortuga = turtle.Turtle()\n",
    "\n",
    "circle(tortuga, 50)\n",
    "    "
   ]
  },
  {
   "cell_type": "code",
   "execution_count": null,
   "metadata": {},
   "outputs": [],
   "source": []
  }
 ],
 "metadata": {
  "kernelspec": {
   "display_name": "Python 3",
   "language": "python",
   "name": "python3"
  },
  "language_info": {
   "codemirror_mode": {
    "name": "ipython",
    "version": 3
   },
   "file_extension": ".py",
   "mimetype": "text/x-python",
   "name": "python",
   "nbconvert_exporter": "python",
   "pygments_lexer": "ipython3",
   "version": "3.7.0"
  }
 },
 "nbformat": 4,
 "nbformat_minor": 2
}
