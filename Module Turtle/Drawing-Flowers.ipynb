{
 "cells": [
  {
   "cell_type": "code",
   "execution_count": 1,
   "metadata": {},
   "outputs": [
    {
     "name": "stderr",
     "output_type": "stream",
     "text": [
      "C:\\Users\\iisra\\Anaconda3\\lib\\site-packages\\ipykernel\\parentpoller.py:116: UserWarning: Parent poll failed.  If the frontend dies,\n",
      "                the kernel may be left running.  Please let us know\n",
      "                about your system (bitness, Python, etc.) at\n",
      "                ipython-dev@scipy.org\n",
      "  ipython-dev@scipy.org\"\"\")\n"
     ]
    }
   ],
   "source": [
    "import turtle"
   ]
  },
  {
   "cell_type": "code",
   "execution_count": 2,
   "metadata": {},
   "outputs": [],
   "source": [
    "def polyline(turtle_name, number_sides , length, angle):\n",
    "    print(turtle_name)\n",
    "    for i in range(number_sides):\n",
    "        turtle_name.fd(length)\n",
    "        turtle_name.lt(angle)"
   ]
  },
  {
   "cell_type": "code",
   "execution_count": 3,
   "metadata": {},
   "outputs": [],
   "source": [
    "def arc(turtle_name, radio, angle):\n",
    "    arc_length = 2*3.1416*radio*angle/360\n",
    "    number_sides = int(arc_length/3)+1\n",
    "    step_length = arc_length / number_sides\n",
    "    step_angle = float(angle) / number_sides\n",
    "    polyline(turtle_name, number_sides, step_length, step_angle)"
   ]
  },
  {
   "cell_type": "code",
   "execution_count": 4,
   "metadata": {},
   "outputs": [],
   "source": [
    "def petalo(turtle_name, radio, angle):\n",
    "    for i in range(2):\n",
    "            arc(turtle_name, radio, angle)\n",
    "            turtle_name.lt(180-angle)\n"
   ]
  },
  {
   "cell_type": "code",
   "execution_count": 5,
   "metadata": {},
   "outputs": [],
   "source": [
    "def flower(turtle_name, radio, angle, petal_number):\n",
    "    petals=360/petal_number\n",
    "    for i in range(petal_number):\n",
    "        petalo(turtle_name, radio, angle)\n",
    "        turtle_name.lt(petals)\n",
    "    "
   ]
  },
  {
   "cell_type": "code",
   "execution_count": 6,
   "metadata": {},
   "outputs": [
    {
     "name": "stdout",
     "output_type": "stream",
     "text": [
      "<turtle.Turtle object at 0x0000023655A235C0>\n",
      "<turtle.Turtle object at 0x0000023655A235C0>\n",
      "<turtle.Turtle object at 0x0000023655A235C0>\n",
      "<turtle.Turtle object at 0x0000023655A235C0>\n",
      "<turtle.Turtle object at 0x0000023655A235C0>\n",
      "<turtle.Turtle object at 0x0000023655A235C0>\n",
      "<turtle.Turtle object at 0x0000023655A235C0>\n",
      "<turtle.Turtle object at 0x0000023655A235C0>\n",
      "<turtle.Turtle object at 0x0000023655A235C0>\n",
      "<turtle.Turtle object at 0x0000023655A235C0>\n",
      "<turtle.Turtle object at 0x0000023655A235C0>\n",
      "<turtle.Turtle object at 0x0000023655A235C0>\n"
     ]
    }
   ],
   "source": [
    "tortuga = turtle.Turtle()\n",
    "flower(tortuga, 100, 180,6)\n",
    "turtle.mainloop()"
   ]
  },
  {
   "cell_type": "code",
   "execution_count": null,
   "metadata": {},
   "outputs": [],
   "source": []
  }
 ],
 "metadata": {
  "kernelspec": {
   "display_name": "Python 3",
   "language": "python",
   "name": "python3"
  },
  "language_info": {
   "codemirror_mode": {
    "name": "ipython",
    "version": 3
   },
   "file_extension": ".py",
   "mimetype": "text/x-python",
   "name": "python",
   "nbconvert_exporter": "python",
   "pygments_lexer": "ipython3",
   "version": "3.7.0"
  }
 },
 "nbformat": 4,
 "nbformat_minor": 2
}
