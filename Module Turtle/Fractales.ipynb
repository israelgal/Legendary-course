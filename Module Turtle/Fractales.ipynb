{
 "cells": [
  {
   "cell_type": "code",
   "execution_count": 1,
   "metadata": {},
   "outputs": [
    {
     "name": "stderr",
     "output_type": "stream",
     "text": [
      "C:\\Users\\iisra\\Anaconda3\\lib\\site-packages\\ipykernel\\parentpoller.py:116: UserWarning: Parent poll failed.  If the frontend dies,\n",
      "                the kernel may be left running.  Please let us know\n",
      "                about your system (bitness, Python, etc.) at\n",
      "                ipython-dev@scipy.org\n",
      "  ipython-dev@scipy.org\"\"\")\n"
     ]
    }
   ],
   "source": [
    "import turtle\n",
    "\n",
    "def draw(t, length, n):\n",
    "    if n == 0:\n",
    "        return\n",
    "    angle = 50\n",
    "    t.fd(length*n)\n",
    "    t.lt(angle)\n",
    "    draw(t, length, n-1)\n",
    "    t.rt(2*angle)\n",
    "    draw(t, length, n-1)\n",
    "    t.lt(angle)\n",
    "    t.bk(length*n)\n",
    "    \n",
    "t=turtle.Turtle()\n",
    "\n",
    "draw(t, 5, 2)\n",
    "\n",
    "turtle.mainloop()"
   ]
  },
  {
   "cell_type": "code",
   "execution_count": 1,
   "metadata": {},
   "outputs": [],
   "source": [
    "import turtle\n",
    "\n",
    "\n",
    "\n",
    "def koch(t,length):\n",
    "    if length < 10:\n",
    "        t.fd(length)\n",
    "        return\n",
    "    m=length/3\n",
    "    koch(t, m)\n",
    "    t.lt(60)\n",
    "    koch(t, m)\n",
    "    t.rt(120)\n",
    "    koch(t, m)\n",
    "    t.lt(60)\n",
    "    koch(t, m)\n",
    "   \n",
    "   \n",
    "\n",
    "    \n",
    "\n",
    "    \n",
    "tortuga = turtle.Turtle()\n",
    "tortuga.lt(180)\n",
    "tortuga.pu()\n",
    "tortuga.fd(250)\n",
    "tortuga.lt(180)\n",
    "tortuga.pd()\n",
    "koch(tortuga,500)\n",
    "\n",
    "turtle.mainloop()\n"
   ]
  },
  {
   "cell_type": "code",
   "execution_count": 1,
   "metadata": {},
   "outputs": [],
   "source": [
    "import turtle\n",
    "\n",
    "\n",
    "\n",
    "def koch(t,length):\n",
    "    if length < 10:\n",
    "        t.fd(length)\n",
    "        return\n",
    "    m=length/3\n",
    "    koch(t, m)\n",
    "    t.lt(60)\n",
    "    koch(t, m)\n",
    "    t.rt(120)\n",
    "    koch(t, m)\n",
    "    t.lt(60)\n",
    "    koch(t, m)\n",
    "    \n",
    "def snowflake(t,length):\n",
    "    for i in range(3):\n",
    "        koch(t,length)\n",
    "        t.rt(120)\n",
    "\n",
    "tortuga = turtle.Turtle()\n",
    "tortuga.lt(180)\n",
    "tortuga.pu()\n",
    "tortuga.fd(250)\n",
    "tortuga.lt(180)\n",
    "tortuga.pd()\n",
    "snowflake(tortuga,200)\n",
    "\n",
    "turtle.mainloop()\n"
   ]
  },
  {
   "cell_type": "code",
   "execution_count": null,
   "metadata": {},
   "outputs": [],
   "source": []
  }
 ],
 "metadata": {
  "kernelspec": {
   "display_name": "Python 3",
   "language": "python",
   "name": "python3"
  },
  "language_info": {
   "codemirror_mode": {
    "name": "ipython",
    "version": 3
   },
   "file_extension": ".py",
   "mimetype": "text/x-python",
   "name": "python",
   "nbconvert_exporter": "python",
   "pygments_lexer": "ipython3",
   "version": "3.7.0"
  }
 },
 "nbformat": 4,
 "nbformat_minor": 2
}
